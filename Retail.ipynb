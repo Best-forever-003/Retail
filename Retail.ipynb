{
  "nbformat": 4,
  "nbformat_minor": 0,
  "metadata": {
    "colab": {
      "name": "Retail.ipynb",
      "provenance": []
    },
    "kernelspec": {
      "name": "python3",
      "display_name": "Python 3"
    }
  },
  "cells": [
    {
      "cell_type": "markdown",
      "metadata": {
        "id": "d5WdNPgXuyS3"
      },
      "source": [
        "# THE SPARKS FOUNDATION\r\n",
        "DATA SCIENCE and BUSINESS ANALYTICS INTERNSHIP(GRIP MAR'21)\r\n",
        "\r\n",
        "**AUTHOR: AAMIR P**\r\n",
        "\r\n",
        "TASK 3: Exploratory Data Analysis - Retail\r\n",
        "\r\n",
        "**PROBLEM STATEMENT**\r\n",
        "\r\n",
        "Perform ‘Exploratory Data Analysis’ on dataset ‘SampleSuperstore’\r\n",
        "\r\n",
        " ● As a business manager, try to find out the weak areas where you can work to make more profit. \r\n",
        " \r\n",
        " ● What all business problems you can derive by exploring the data?\r\n"
      ]
    },
    {
      "cell_type": "markdown",
      "metadata": {
        "id": "5ghOUGhkwcQ6"
      },
      "source": [
        "**IMPORT LIBRARIES**"
      ]
    },
    {
      "cell_type": "code",
      "metadata": {
        "id": "ok16XmsNpgKk"
      },
      "source": [
        "import numpy as np\r\n",
        "import pandas as pd\r\n",
        "import matplotlib.pyplot as plt\r\n",
        "import seaborn as sns\r\n",
        "\r\n",
        "%matplotlib inline"
      ],
      "execution_count": 2,
      "outputs": []
    },
    {
      "cell_type": "markdown",
      "metadata": {
        "id": "PcNuPTL-91qm"
      },
      "source": [
        "**IMPORT FROM DRIVE**"
      ]
    },
    {
      "cell_type": "code",
      "metadata": {
        "colab": {
          "base_uri": "https://localhost:8080/"
        },
        "id": "iweag1uRpjWa",
        "outputId": "540b16dc-0304-4159-8f70-248ef7121517"
      },
      "source": [
        "from google.colab import drive\r\n",
        "drive.mount('/content/drive')\r\n"
      ],
      "execution_count": 3,
      "outputs": [
        {
          "output_type": "stream",
          "text": [
            "Mounted at /content/drive\n"
          ],
          "name": "stdout"
        }
      ]
    },
    {
      "cell_type": "markdown",
      "metadata": {
        "id": "iwkXeetW-C8w"
      },
      "source": [
        "**READ DATA FROM DRIVE AND RUN THE DATA**"
      ]
    },
    {
      "cell_type": "code",
      "metadata": {
        "colab": {
          "base_uri": "https://localhost:8080/",
          "height": 195
        },
        "id": "WSmNVJZrpyDX",
        "outputId": "0b2a7eef-7ab4-4e77-b86d-a310ae4ee8f0"
      },
      "source": [
        "data = pd.read_csv(\"/content/drive/MyDrive/SampleSuperstore.csv\")\r\n",
        "data.head()"
      ],
      "execution_count": 4,
      "outputs": [
        {
          "output_type": "execute_result",
          "data": {
            "text/html": [
              "<div>\n",
              "<style scoped>\n",
              "    .dataframe tbody tr th:only-of-type {\n",
              "        vertical-align: middle;\n",
              "    }\n",
              "\n",
              "    .dataframe tbody tr th {\n",
              "        vertical-align: top;\n",
              "    }\n",
              "\n",
              "    .dataframe thead th {\n",
              "        text-align: right;\n",
              "    }\n",
              "</style>\n",
              "<table border=\"1\" class=\"dataframe\">\n",
              "  <thead>\n",
              "    <tr style=\"text-align: right;\">\n",
              "      <th></th>\n",
              "      <th>Ship Mode</th>\n",
              "      <th>Segment</th>\n",
              "      <th>Country</th>\n",
              "      <th>City</th>\n",
              "      <th>State</th>\n",
              "      <th>Postal Code</th>\n",
              "      <th>Region</th>\n",
              "      <th>Category</th>\n",
              "      <th>Sub-Category</th>\n",
              "      <th>Sales</th>\n",
              "      <th>Quantity</th>\n",
              "      <th>Discount</th>\n",
              "      <th>Profit</th>\n",
              "    </tr>\n",
              "  </thead>\n",
              "  <tbody>\n",
              "    <tr>\n",
              "      <th>0</th>\n",
              "      <td>Second Class</td>\n",
              "      <td>Consumer</td>\n",
              "      <td>United States</td>\n",
              "      <td>Henderson</td>\n",
              "      <td>Kentucky</td>\n",
              "      <td>42420</td>\n",
              "      <td>South</td>\n",
              "      <td>Furniture</td>\n",
              "      <td>Bookcases</td>\n",
              "      <td>261.9600</td>\n",
              "      <td>2</td>\n",
              "      <td>0.00</td>\n",
              "      <td>41.9136</td>\n",
              "    </tr>\n",
              "    <tr>\n",
              "      <th>1</th>\n",
              "      <td>Second Class</td>\n",
              "      <td>Consumer</td>\n",
              "      <td>United States</td>\n",
              "      <td>Henderson</td>\n",
              "      <td>Kentucky</td>\n",
              "      <td>42420</td>\n",
              "      <td>South</td>\n",
              "      <td>Furniture</td>\n",
              "      <td>Chairs</td>\n",
              "      <td>731.9400</td>\n",
              "      <td>3</td>\n",
              "      <td>0.00</td>\n",
              "      <td>219.5820</td>\n",
              "    </tr>\n",
              "    <tr>\n",
              "      <th>2</th>\n",
              "      <td>Second Class</td>\n",
              "      <td>Corporate</td>\n",
              "      <td>United States</td>\n",
              "      <td>Los Angeles</td>\n",
              "      <td>California</td>\n",
              "      <td>90036</td>\n",
              "      <td>West</td>\n",
              "      <td>Office Supplies</td>\n",
              "      <td>Labels</td>\n",
              "      <td>14.6200</td>\n",
              "      <td>2</td>\n",
              "      <td>0.00</td>\n",
              "      <td>6.8714</td>\n",
              "    </tr>\n",
              "    <tr>\n",
              "      <th>3</th>\n",
              "      <td>Standard Class</td>\n",
              "      <td>Consumer</td>\n",
              "      <td>United States</td>\n",
              "      <td>Fort Lauderdale</td>\n",
              "      <td>Florida</td>\n",
              "      <td>33311</td>\n",
              "      <td>South</td>\n",
              "      <td>Furniture</td>\n",
              "      <td>Tables</td>\n",
              "      <td>957.5775</td>\n",
              "      <td>5</td>\n",
              "      <td>0.45</td>\n",
              "      <td>-383.0310</td>\n",
              "    </tr>\n",
              "    <tr>\n",
              "      <th>4</th>\n",
              "      <td>Standard Class</td>\n",
              "      <td>Consumer</td>\n",
              "      <td>United States</td>\n",
              "      <td>Fort Lauderdale</td>\n",
              "      <td>Florida</td>\n",
              "      <td>33311</td>\n",
              "      <td>South</td>\n",
              "      <td>Office Supplies</td>\n",
              "      <td>Storage</td>\n",
              "      <td>22.3680</td>\n",
              "      <td>2</td>\n",
              "      <td>0.20</td>\n",
              "      <td>2.5164</td>\n",
              "    </tr>\n",
              "  </tbody>\n",
              "</table>\n",
              "</div>"
            ],
            "text/plain": [
              "        Ship Mode    Segment        Country  ... Quantity Discount    Profit\n",
              "0    Second Class   Consumer  United States  ...        2     0.00   41.9136\n",
              "1    Second Class   Consumer  United States  ...        3     0.00  219.5820\n",
              "2    Second Class  Corporate  United States  ...        2     0.00    6.8714\n",
              "3  Standard Class   Consumer  United States  ...        5     0.45 -383.0310\n",
              "4  Standard Class   Consumer  United States  ...        2     0.20    2.5164\n",
              "\n",
              "[5 rows x 13 columns]"
            ]
          },
          "metadata": {
            "tags": []
          },
          "execution_count": 4
        }
      ]
    },
    {
      "cell_type": "markdown",
      "metadata": {
        "id": "lytavWAm_y6Y"
      },
      "source": [
        "**EXPLORE THE DATA**"
      ]
    },
    {
      "cell_type": "code",
      "metadata": {
        "colab": {
          "base_uri": "https://localhost:8080/"
        },
        "id": "4X1KDGLzp8RT",
        "outputId": "fa8b4ba1-6e6d-4363-e410-85b0ae07f06a"
      },
      "source": [
        "data.info()"
      ],
      "execution_count": 5,
      "outputs": [
        {
          "output_type": "stream",
          "text": [
            "<class 'pandas.core.frame.DataFrame'>\n",
            "RangeIndex: 9994 entries, 0 to 9993\n",
            "Data columns (total 13 columns):\n",
            " #   Column        Non-Null Count  Dtype  \n",
            "---  ------        --------------  -----  \n",
            " 0   Ship Mode     9994 non-null   object \n",
            " 1   Segment       9994 non-null   object \n",
            " 2   Country       9994 non-null   object \n",
            " 3   City          9994 non-null   object \n",
            " 4   State         9994 non-null   object \n",
            " 5   Postal Code   9994 non-null   int64  \n",
            " 6   Region        9994 non-null   object \n",
            " 7   Category      9994 non-null   object \n",
            " 8   Sub-Category  9994 non-null   object \n",
            " 9   Sales         9994 non-null   float64\n",
            " 10  Quantity      9994 non-null   int64  \n",
            " 11  Discount      9994 non-null   float64\n",
            " 12  Profit        9994 non-null   float64\n",
            "dtypes: float64(3), int64(2), object(8)\n",
            "memory usage: 1015.1+ KB\n"
          ],
          "name": "stdout"
        }
      ]
    },
    {
      "cell_type": "markdown",
      "metadata": {
        "id": "lUFnG3isAdvL"
      },
      "source": [
        "**TO GET THE STATISTICS OF DATA**"
      ]
    },
    {
      "cell_type": "code",
      "metadata": {
        "colab": {
          "base_uri": "https://localhost:8080/",
          "height": 284
        },
        "id": "yWxf3eVWp9xj",
        "outputId": "45c9b46b-cfca-4fa3-a791-76bdf352ffaf"
      },
      "source": [
        "data.describe()\r\n"
      ],
      "execution_count": 6,
      "outputs": [
        {
          "output_type": "execute_result",
          "data": {
            "text/html": [
              "<div>\n",
              "<style scoped>\n",
              "    .dataframe tbody tr th:only-of-type {\n",
              "        vertical-align: middle;\n",
              "    }\n",
              "\n",
              "    .dataframe tbody tr th {\n",
              "        vertical-align: top;\n",
              "    }\n",
              "\n",
              "    .dataframe thead th {\n",
              "        text-align: right;\n",
              "    }\n",
              "</style>\n",
              "<table border=\"1\" class=\"dataframe\">\n",
              "  <thead>\n",
              "    <tr style=\"text-align: right;\">\n",
              "      <th></th>\n",
              "      <th>Postal Code</th>\n",
              "      <th>Sales</th>\n",
              "      <th>Quantity</th>\n",
              "      <th>Discount</th>\n",
              "      <th>Profit</th>\n",
              "    </tr>\n",
              "  </thead>\n",
              "  <tbody>\n",
              "    <tr>\n",
              "      <th>count</th>\n",
              "      <td>9994.000000</td>\n",
              "      <td>9994.000000</td>\n",
              "      <td>9994.000000</td>\n",
              "      <td>9994.000000</td>\n",
              "      <td>9994.000000</td>\n",
              "    </tr>\n",
              "    <tr>\n",
              "      <th>mean</th>\n",
              "      <td>55190.379428</td>\n",
              "      <td>229.858001</td>\n",
              "      <td>3.789574</td>\n",
              "      <td>0.156203</td>\n",
              "      <td>28.656896</td>\n",
              "    </tr>\n",
              "    <tr>\n",
              "      <th>std</th>\n",
              "      <td>32063.693350</td>\n",
              "      <td>623.245101</td>\n",
              "      <td>2.225110</td>\n",
              "      <td>0.206452</td>\n",
              "      <td>234.260108</td>\n",
              "    </tr>\n",
              "    <tr>\n",
              "      <th>min</th>\n",
              "      <td>1040.000000</td>\n",
              "      <td>0.444000</td>\n",
              "      <td>1.000000</td>\n",
              "      <td>0.000000</td>\n",
              "      <td>-6599.978000</td>\n",
              "    </tr>\n",
              "    <tr>\n",
              "      <th>25%</th>\n",
              "      <td>23223.000000</td>\n",
              "      <td>17.280000</td>\n",
              "      <td>2.000000</td>\n",
              "      <td>0.000000</td>\n",
              "      <td>1.728750</td>\n",
              "    </tr>\n",
              "    <tr>\n",
              "      <th>50%</th>\n",
              "      <td>56430.500000</td>\n",
              "      <td>54.490000</td>\n",
              "      <td>3.000000</td>\n",
              "      <td>0.200000</td>\n",
              "      <td>8.666500</td>\n",
              "    </tr>\n",
              "    <tr>\n",
              "      <th>75%</th>\n",
              "      <td>90008.000000</td>\n",
              "      <td>209.940000</td>\n",
              "      <td>5.000000</td>\n",
              "      <td>0.200000</td>\n",
              "      <td>29.364000</td>\n",
              "    </tr>\n",
              "    <tr>\n",
              "      <th>max</th>\n",
              "      <td>99301.000000</td>\n",
              "      <td>22638.480000</td>\n",
              "      <td>14.000000</td>\n",
              "      <td>0.800000</td>\n",
              "      <td>8399.976000</td>\n",
              "    </tr>\n",
              "  </tbody>\n",
              "</table>\n",
              "</div>"
            ],
            "text/plain": [
              "        Postal Code         Sales     Quantity     Discount       Profit\n",
              "count   9994.000000   9994.000000  9994.000000  9994.000000  9994.000000\n",
              "mean   55190.379428    229.858001     3.789574     0.156203    28.656896\n",
              "std    32063.693350    623.245101     2.225110     0.206452   234.260108\n",
              "min     1040.000000      0.444000     1.000000     0.000000 -6599.978000\n",
              "25%    23223.000000     17.280000     2.000000     0.000000     1.728750\n",
              "50%    56430.500000     54.490000     3.000000     0.200000     8.666500\n",
              "75%    90008.000000    209.940000     5.000000     0.200000    29.364000\n",
              "max    99301.000000  22638.480000    14.000000     0.800000  8399.976000"
            ]
          },
          "metadata": {
            "tags": []
          },
          "execution_count": 6
        }
      ]
    },
    {
      "cell_type": "markdown",
      "metadata": {
        "id": "pGPQmYLwA29a"
      },
      "source": [
        "**TO CHECK WHETER ANY DATA IS MISSING**"
      ]
    },
    {
      "cell_type": "code",
      "metadata": {
        "colab": {
          "base_uri": "https://localhost:8080/"
        },
        "id": "kAZ9ke_Qq_Fd",
        "outputId": "94793f4e-25c1-42d0-8e92-872438231085"
      },
      "source": [
        "data.isnull().sum()\r\n"
      ],
      "execution_count": 7,
      "outputs": [
        {
          "output_type": "execute_result",
          "data": {
            "text/plain": [
              "Ship Mode       0\n",
              "Segment         0\n",
              "Country         0\n",
              "City            0\n",
              "State           0\n",
              "Postal Code     0\n",
              "Region          0\n",
              "Category        0\n",
              "Sub-Category    0\n",
              "Sales           0\n",
              "Quantity        0\n",
              "Discount        0\n",
              "Profit          0\n",
              "dtype: int64"
            ]
          },
          "metadata": {
            "tags": []
          },
          "execution_count": 7
        }
      ]
    },
    {
      "cell_type": "markdown",
      "metadata": {
        "id": "7XjP5Je7B2FM"
      },
      "source": [
        "**TO CHECK FOR DUPLICATES IN DATASET**"
      ]
    },
    {
      "cell_type": "code",
      "metadata": {
        "colab": {
          "base_uri": "https://localhost:8080/"
        },
        "id": "Jp7RVz8drA8N",
        "outputId": "afd7f5c3-5efe-4800-8d79-feb8fcdd01f0"
      },
      "source": [
        "sum(data.duplicated(subset = None, keep = 'first'))\r\n"
      ],
      "execution_count": 8,
      "outputs": [
        {
          "output_type": "execute_result",
          "data": {
            "text/plain": [
              "17"
            ]
          },
          "metadata": {
            "tags": []
          },
          "execution_count": 8
        }
      ]
    },
    {
      "cell_type": "markdown",
      "metadata": {
        "id": "qns2T9EXCHLm"
      },
      "source": [
        "**TO REMOVE THE DUPLICATES**"
      ]
    },
    {
      "cell_type": "code",
      "metadata": {
        "id": "bxr-e2vsrGSL"
      },
      "source": [
        "data.drop_duplicates(subset = None, keep = 'first', inplace = True)\r\n"
      ],
      "execution_count": 9,
      "outputs": []
    },
    {
      "cell_type": "code",
      "metadata": {
        "colab": {
          "base_uri": "https://localhost:8080/"
        },
        "id": "FphnZgNKr0sd",
        "outputId": "43584793-d660-41c1-8f6b-337aaf7a9c74"
      },
      "source": [
        "data.shape\r\n"
      ],
      "execution_count": 10,
      "outputs": [
        {
          "output_type": "execute_result",
          "data": {
            "text/plain": [
              "(9977, 13)"
            ]
          },
          "metadata": {
            "tags": []
          },
          "execution_count": 10
        }
      ]
    },
    {
      "cell_type": "code",
      "metadata": {
        "id": "gDRNiiIcr9mY"
      },
      "source": [
        "def getUnique(data,  target_variable, sort_by, color, threshold_categories = 10):\r\n",
        "    \r\n",
        "    total_cols = [i for i in data.columns.values if len(data[i].unique()) < threshold_categories and len(data[i].unique()) > 1]\r\n",
        "    \r\n",
        "    fig = plt.figure(figsize = (20,20))\r\n",
        "    rows = len(total_cols) // 2\r\n",
        "    cols = len(total_cols) // 2\r\n",
        "    \r\n",
        "    for i, num in zip(total_cols, range(1,len(total_cols)+1)):\r\n",
        "        ax = fig.add_subplot(rows,cols,num)\r\n",
        "        data.groupby(i)[target_variable].sum().sort_values(by = sort_by, ascending = False).plot(kind = 'bar', ax = ax, title = i, color = color)\r\n",
        "\r\n",
        "    plt.tight_layout(pad = 3.0)\r\n",
        "    plt.show()"
      ],
      "execution_count": 11,
      "outputs": []
    },
    {
      "cell_type": "code",
      "metadata": {
        "colab": {
          "base_uri": "https://localhost:8080/",
          "height": 1000
        },
        "id": "_-2XcbkTsAB-",
        "outputId": "53359c38-a753-4115-dafd-b84145ae5543"
      },
      "source": [
        "num_categories = 20\r\n",
        "target_variable = [\"Sales\",\"Profit\"]\r\n",
        "sort_by = \"Sales\"\r\n",
        "color = [\"green\", \"yellow\"]\r\n",
        "getUnique(data, target_variable, sort_by, color, num_categories)"
      ],
      "execution_count": 12,
      "outputs": [
        {
          "output_type": "display_data",
          "data": {
            "image/png": "[encoded data removed]",
            "text/plain": [
              "<Figure size 1440x1440 with 7 Axes>"
            ]
          },
          "metadata": {
            "tags": [],
            "needs_background": "light"
          }
        }
      ]
    },
    {
      "cell_type": "markdown",
      "metadata": {
        "id": "gAfdOmsqEwEs"
      },
      "source": [
        "# **What I observed the tables?**\r\n",
        "1. The profit of copiers is high.\r\n",
        "2. Sales of Office supplies is low but the profit is high."
      ]
    },
    {
      "cell_type": "markdown",
      "metadata": {
        "id": "quEidj3RCuEd"
      },
      "source": [
        "**TO FIND UNIQUE STATEMENTS IN AN ARRAY**"
      ]
    },
    {
      "cell_type": "code",
      "metadata": {
        "colab": {
          "base_uri": "https://localhost:8080/"
        },
        "id": "PKLhCl2fsIh7",
        "outputId": "0dd52b42-2039-40ec-84aa-60e570176740"
      },
      "source": [
        "data.State.unique()\r\n"
      ],
      "execution_count": 13,
      "outputs": [
        {
          "output_type": "execute_result",
          "data": {
            "text/plain": [
              "array(['Kentucky', 'California', 'Florida', 'North Carolina',\n",
              "       'Washington', 'Texas', 'Wisconsin', 'Utah', 'Nebraska',\n",
              "       'Pennsylvania', 'Illinois', 'Minnesota', 'Michigan', 'Delaware',\n",
              "       'Indiana', 'New York', 'Arizona', 'Virginia', 'Tennessee',\n",
              "       'Alabama', 'South Carolina', 'Oregon', 'Colorado', 'Iowa', 'Ohio',\n",
              "       'Missouri', 'Oklahoma', 'New Mexico', 'Louisiana', 'Connecticut',\n",
              "       'New Jersey', 'Massachusetts', 'Georgia', 'Nevada', 'Rhode Island',\n",
              "       'Mississippi', 'Arkansas', 'Montana', 'New Hampshire', 'Maryland',\n",
              "       'District of Columbia', 'Kansas', 'Vermont', 'Maine',\n",
              "       'South Dakota', 'Idaho', 'North Dakota', 'Wyoming',\n",
              "       'West Virginia'], dtype=object)"
            ]
          },
          "metadata": {
            "tags": []
          },
          "execution_count": 13
        }
      ]
    },
    {
      "cell_type": "code",
      "metadata": {
        "colab": {
          "base_uri": "https://localhost:8080/",
          "height": 692
        },
        "id": "C76BS-cnsPwh",
        "outputId": "a8dd4fdc-2213-47d0-82f6-f53d424f6120"
      },
      "source": [
        "plt.rcParams[\"figure.figsize\"] = [25,10]\r\n",
        "data.groupby(\"State\")[[\"Sales\", \"Profit\"]].sum().sort_values(by = \"Sales\", ascending = False).plot(kind = \"bar\", color = [\"green\", \"yellow\"])\r\n",
        "plt.title(\"Sales and Profits for each State\")\r\n",
        "plt.show()\r\n"
      ],
      "execution_count": 14,
      "outputs": [
        {
          "output_type": "display_data",
          "data": {
            "image/png": "[encoded data removed]",
            "text/plain": [
              "<Figure size 1800x720 with 1 Axes>"
            ]
          },
          "metadata": {
            "tags": [],
            "needs_background": "light"
          }
        }
      ]
    },
    {
      "cell_type": "markdown",
      "metadata": {
        "id": "QOf3aMOhE1tL"
      },
      "source": [
        "# **What I observed from above?**\r\n",
        "The states with high sales are generating less profit."
      ]
    },
    {
      "cell_type": "markdown",
      "metadata": {
        "id": "5v4VBjnsDe5H"
      },
      "source": [
        "# **What I observed the tables?**\r\n",
        "1. The profit of copiers is high.\r\n",
        "2. Sales of Office supplies is low but the profit is high."
      ]
    },
    {
      "cell_type": "code",
      "metadata": {
        "colab": {
          "base_uri": "https://localhost:8080/"
        },
        "id": "GW10g8e1sWHr",
        "outputId": "18f7cc31-ddca-4539-e214-81fb56fe5f78"
      },
      "source": [
        "data.groupby(\"State\").sum()['Discount'].sort_values(ascending = False)\r\n"
      ],
      "execution_count": 20,
      "outputs": [
        {
          "output_type": "execute_result",
          "data": {
            "text/plain": [
              "State\n",
              "Texas                   364.24\n",
              "Pennsylvania            192.70\n",
              "Illinois                191.10\n",
              "Ohio                    152.10\n",
              "California              145.60\n",
              "Florida                 114.65\n",
              "North Carolina           70.60\n",
              "Arizona                  68.00\n",
              "New York                 62.40\n",
              "Colorado                 57.60\n",
              "Tennessee                53.30\n",
              "Oregon                   35.60\n",
              "Washington               32.40\n",
              "Utah                      3.20\n",
              "Nevada                    2.40\n",
              "New Mexico                2.20\n",
              "Massachusetts             2.10\n",
              "Michigan                  1.80\n",
              "Idaho                     1.80\n",
              "Rhode Island              1.20\n",
              "Montana                   1.00\n",
              "Delaware                  0.60\n",
              "New Jersey                0.60\n",
              "Connecticut               0.60\n",
              "Maryland                  0.60\n",
              "New Hampshire             0.30\n",
              "West Virginia             0.30\n",
              "Wyoming                   0.20\n",
              "Minnesota                 0.00\n",
              "Georgia                   0.00\n",
              "Virginia                  0.00\n",
              "Arkansas                  0.00\n",
              "Vermont                   0.00\n",
              "South Dakota              0.00\n",
              "South Carolina            0.00\n",
              "Oklahoma                  0.00\n",
              "District of Columbia      0.00\n",
              "North Dakota              0.00\n",
              "Nebraska                  0.00\n",
              "Mississippi               0.00\n",
              "Wisconsin                 0.00\n",
              "Indiana                   0.00\n",
              "Iowa                      0.00\n",
              "Kansas                    0.00\n",
              "Kentucky                  0.00\n",
              "Louisiana                 0.00\n",
              "Maine                     0.00\n",
              "Missouri                  0.00\n",
              "Alabama                   0.00\n",
              "Name: Discount, dtype: float64"
            ]
          },
          "metadata": {
            "tags": []
          },
          "execution_count": 20
        }
      ]
    },
    {
      "cell_type": "markdown",
      "metadata": {
        "id": "gASiA3UsFhZL"
      },
      "source": [
        "**I am comparing the bar graph with the above table**"
      ]
    },
    {
      "cell_type": "code",
      "metadata": {
        "colab": {
          "base_uri": "https://localhost:8080/",
          "height": 1000
        },
        "id": "NpIHgRAgsZQE",
        "outputId": "372eeab2-1111-4499-dd07-6a13a66c73b5"
      },
      "source": [
        "states_df = data.groupby(\"State\")[[\"Sales\",\"Profit\",\"Discount\"]].sum().sort_values(by = \"Sales\", ascending = False)\r\n",
        "states_df"
      ],
      "execution_count": 17,
      "outputs": [
        {
          "output_type": "execute_result",
          "data": {
            "text/html": [
              "<div>\n",
              "<style scoped>\n",
              "    .dataframe tbody tr th:only-of-type {\n",
              "        vertical-align: middle;\n",
              "    }\n",
              "\n",
              "    .dataframe tbody tr th {\n",
              "        vertical-align: top;\n",
              "    }\n",
              "\n",
              "    .dataframe thead th {\n",
              "        text-align: right;\n",
              "    }\n",
              "</style>\n",
              "<table border=\"1\" class=\"dataframe\">\n",
              "  <thead>\n",
              "    <tr style=\"text-align: right;\">\n",
              "      <th></th>\n",
              "      <th>Sales</th>\n",
              "      <th>Profit</th>\n",
              "      <th>Discount</th>\n",
              "    </tr>\n",
              "    <tr>\n",
              "      <th>State</th>\n",
              "      <th></th>\n",
              "      <th></th>\n",
              "      <th></th>\n",
              "    </tr>\n",
              "  </thead>\n",
              "  <tbody>\n",
              "    <tr>\n",
              "      <th>California</th>\n",
              "      <td>457576.2715</td>\n",
              "      <td>76330.7891</td>\n",
              "      <td>145.60</td>\n",
              "    </tr>\n",
              "    <tr>\n",
              "      <th>New York</th>\n",
              "      <td>310827.1510</td>\n",
              "      <td>74015.4622</td>\n",
              "      <td>62.40</td>\n",
              "    </tr>\n",
              "    <tr>\n",
              "      <th>Texas</th>\n",
              "      <td>170124.5418</td>\n",
              "      <td>-25750.9833</td>\n",
              "      <td>364.24</td>\n",
              "    </tr>\n",
              "    <tr>\n",
              "      <th>Washington</th>\n",
              "      <td>138560.8100</td>\n",
              "      <td>33368.2375</td>\n",
              "      <td>32.40</td>\n",
              "    </tr>\n",
              "    <tr>\n",
              "      <th>Pennsylvania</th>\n",
              "      <td>116496.3620</td>\n",
              "      <td>-15565.4035</td>\n",
              "      <td>192.70</td>\n",
              "    </tr>\n",
              "    <tr>\n",
              "      <th>Florida</th>\n",
              "      <td>89473.7080</td>\n",
              "      <td>-3399.3017</td>\n",
              "      <td>114.65</td>\n",
              "    </tr>\n",
              "    <tr>\n",
              "      <th>Illinois</th>\n",
              "      <td>80162.5370</td>\n",
              "      <td>-12601.6500</td>\n",
              "      <td>191.10</td>\n",
              "    </tr>\n",
              "    <tr>\n",
              "      <th>Ohio</th>\n",
              "      <td>77976.7640</td>\n",
              "      <td>-16959.3178</td>\n",
              "      <td>152.10</td>\n",
              "    </tr>\n",
              "    <tr>\n",
              "      <th>Michigan</th>\n",
              "      <td>75879.6440</td>\n",
              "      <td>24428.0903</td>\n",
              "      <td>1.80</td>\n",
              "    </tr>\n",
              "    <tr>\n",
              "      <th>Virginia</th>\n",
              "      <td>70636.7200</td>\n",
              "      <td>18597.9504</td>\n",
              "      <td>0.00</td>\n",
              "    </tr>\n",
              "    <tr>\n",
              "      <th>North Carolina</th>\n",
              "      <td>55603.1640</td>\n",
              "      <td>-7490.9122</td>\n",
              "      <td>70.60</td>\n",
              "    </tr>\n",
              "    <tr>\n",
              "      <th>Indiana</th>\n",
              "      <td>53555.3600</td>\n",
              "      <td>18382.9363</td>\n",
              "      <td>0.00</td>\n",
              "    </tr>\n",
              "    <tr>\n",
              "      <th>Georgia</th>\n",
              "      <td>49095.8400</td>\n",
              "      <td>16250.0433</td>\n",
              "      <td>0.00</td>\n",
              "    </tr>\n",
              "    <tr>\n",
              "      <th>Kentucky</th>\n",
              "      <td>36591.7500</td>\n",
              "      <td>11199.6966</td>\n",
              "      <td>0.00</td>\n",
              "    </tr>\n",
              "    <tr>\n",
              "      <th>New Jersey</th>\n",
              "      <td>35764.3120</td>\n",
              "      <td>9772.9138</td>\n",
              "      <td>0.60</td>\n",
              "    </tr>\n",
              "    <tr>\n",
              "      <th>Arizona</th>\n",
              "      <td>35282.0010</td>\n",
              "      <td>-3427.9246</td>\n",
              "      <td>68.00</td>\n",
              "    </tr>\n",
              "    <tr>\n",
              "      <th>Wisconsin</th>\n",
              "      <td>32114.6100</td>\n",
              "      <td>8401.8004</td>\n",
              "      <td>0.00</td>\n",
              "    </tr>\n",
              "    <tr>\n",
              "      <th>Colorado</th>\n",
              "      <td>32108.1180</td>\n",
              "      <td>-6527.8579</td>\n",
              "      <td>57.60</td>\n",
              "    </tr>\n",
              "    <tr>\n",
              "      <th>Tennessee</th>\n",
              "      <td>30661.8730</td>\n",
              "      <td>-5341.6936</td>\n",
              "      <td>53.30</td>\n",
              "    </tr>\n",
              "    <tr>\n",
              "      <th>Minnesota</th>\n",
              "      <td>29863.1500</td>\n",
              "      <td>10823.1874</td>\n",
              "      <td>0.00</td>\n",
              "    </tr>\n",
              "    <tr>\n",
              "      <th>Massachusetts</th>\n",
              "      <td>28634.4340</td>\n",
              "      <td>6785.5016</td>\n",
              "      <td>2.10</td>\n",
              "    </tr>\n",
              "    <tr>\n",
              "      <th>Delaware</th>\n",
              "      <td>27451.0690</td>\n",
              "      <td>9977.3748</td>\n",
              "      <td>0.60</td>\n",
              "    </tr>\n",
              "    <tr>\n",
              "      <th>Maryland</th>\n",
              "      <td>23705.5230</td>\n",
              "      <td>7031.1788</td>\n",
              "      <td>0.60</td>\n",
              "    </tr>\n",
              "    <tr>\n",
              "      <th>Rhode Island</th>\n",
              "      <td>22627.9560</td>\n",
              "      <td>7285.6293</td>\n",
              "      <td>1.20</td>\n",
              "    </tr>\n",
              "    <tr>\n",
              "      <th>Missouri</th>\n",
              "      <td>22205.1500</td>\n",
              "      <td>6436.2105</td>\n",
              "      <td>0.00</td>\n",
              "    </tr>\n",
              "    <tr>\n",
              "      <th>Oklahoma</th>\n",
              "      <td>19683.3900</td>\n",
              "      <td>4853.9560</td>\n",
              "      <td>0.00</td>\n",
              "    </tr>\n",
              "    <tr>\n",
              "      <th>Alabama</th>\n",
              "      <td>19510.6400</td>\n",
              "      <td>5786.8253</td>\n",
              "      <td>0.00</td>\n",
              "    </tr>\n",
              "    <tr>\n",
              "      <th>Oregon</th>\n",
              "      <td>17420.7820</td>\n",
              "      <td>-1194.0993</td>\n",
              "      <td>35.60</td>\n",
              "    </tr>\n",
              "    <tr>\n",
              "      <th>Nevada</th>\n",
              "      <td>16729.1020</td>\n",
              "      <td>3316.7659</td>\n",
              "      <td>2.40</td>\n",
              "    </tr>\n",
              "    <tr>\n",
              "      <th>Connecticut</th>\n",
              "      <td>13384.3570</td>\n",
              "      <td>3511.4918</td>\n",
              "      <td>0.60</td>\n",
              "    </tr>\n",
              "    <tr>\n",
              "      <th>Arkansas</th>\n",
              "      <td>11678.1300</td>\n",
              "      <td>4008.6871</td>\n",
              "      <td>0.00</td>\n",
              "    </tr>\n",
              "    <tr>\n",
              "      <th>Utah</th>\n",
              "      <td>11220.0560</td>\n",
              "      <td>2546.5335</td>\n",
              "      <td>3.20</td>\n",
              "    </tr>\n",
              "    <tr>\n",
              "      <th>Mississippi</th>\n",
              "      <td>10771.3400</td>\n",
              "      <td>3172.9762</td>\n",
              "      <td>0.00</td>\n",
              "    </tr>\n",
              "    <tr>\n",
              "      <th>Louisiana</th>\n",
              "      <td>9217.0300</td>\n",
              "      <td>2196.1023</td>\n",
              "      <td>0.00</td>\n",
              "    </tr>\n",
              "    <tr>\n",
              "      <th>Vermont</th>\n",
              "      <td>8929.3700</td>\n",
              "      <td>2244.9783</td>\n",
              "      <td>0.00</td>\n",
              "    </tr>\n",
              "    <tr>\n",
              "      <th>South Carolina</th>\n",
              "      <td>8481.7100</td>\n",
              "      <td>1769.0566</td>\n",
              "      <td>0.00</td>\n",
              "    </tr>\n",
              "    <tr>\n",
              "      <th>Nebraska</th>\n",
              "      <td>7464.9300</td>\n",
              "      <td>2037.0942</td>\n",
              "      <td>0.00</td>\n",
              "    </tr>\n",
              "    <tr>\n",
              "      <th>New Hampshire</th>\n",
              "      <td>7292.5240</td>\n",
              "      <td>1706.5028</td>\n",
              "      <td>0.30</td>\n",
              "    </tr>\n",
              "    <tr>\n",
              "      <th>Montana</th>\n",
              "      <td>5589.3520</td>\n",
              "      <td>1833.3285</td>\n",
              "      <td>1.00</td>\n",
              "    </tr>\n",
              "    <tr>\n",
              "      <th>New Mexico</th>\n",
              "      <td>4783.5220</td>\n",
              "      <td>1157.1161</td>\n",
              "      <td>2.20</td>\n",
              "    </tr>\n",
              "    <tr>\n",
              "      <th>Iowa</th>\n",
              "      <td>4579.7600</td>\n",
              "      <td>1183.8119</td>\n",
              "      <td>0.00</td>\n",
              "    </tr>\n",
              "    <tr>\n",
              "      <th>Idaho</th>\n",
              "      <td>4382.4860</td>\n",
              "      <td>826.7231</td>\n",
              "      <td>1.80</td>\n",
              "    </tr>\n",
              "    <tr>\n",
              "      <th>Kansas</th>\n",
              "      <td>2914.3100</td>\n",
              "      <td>836.4435</td>\n",
              "      <td>0.00</td>\n",
              "    </tr>\n",
              "    <tr>\n",
              "      <th>District of Columbia</th>\n",
              "      <td>2865.0200</td>\n",
              "      <td>1059.5893</td>\n",
              "      <td>0.00</td>\n",
              "    </tr>\n",
              "    <tr>\n",
              "      <th>Wyoming</th>\n",
              "      <td>1603.1360</td>\n",
              "      <td>100.1960</td>\n",
              "      <td>0.20</td>\n",
              "    </tr>\n",
              "    <tr>\n",
              "      <th>South Dakota</th>\n",
              "      <td>1315.5600</td>\n",
              "      <td>394.8283</td>\n",
              "      <td>0.00</td>\n",
              "    </tr>\n",
              "    <tr>\n",
              "      <th>Maine</th>\n",
              "      <td>1270.5300</td>\n",
              "      <td>454.4862</td>\n",
              "      <td>0.00</td>\n",
              "    </tr>\n",
              "    <tr>\n",
              "      <th>West Virginia</th>\n",
              "      <td>1209.8240</td>\n",
              "      <td>185.9216</td>\n",
              "      <td>0.30</td>\n",
              "    </tr>\n",
              "    <tr>\n",
              "      <th>North Dakota</th>\n",
              "      <td>919.9100</td>\n",
              "      <td>230.1497</td>\n",
              "      <td>0.00</td>\n",
              "    </tr>\n",
              "  </tbody>\n",
              "</table>\n",
              "</div>"
            ],
            "text/plain": [
              "                            Sales      Profit  Discount\n",
              "State                                                  \n",
              "California            457576.2715  76330.7891    145.60\n",
              "New York              310827.1510  74015.4622     62.40\n",
              "Texas                 170124.5418 -25750.9833    364.24\n",
              "Washington            138560.8100  33368.2375     32.40\n",
              "Pennsylvania          116496.3620 -15565.4035    192.70\n",
              "Florida                89473.7080  -3399.3017    114.65\n",
              "Illinois               80162.5370 -12601.6500    191.10\n",
              "Ohio                   77976.7640 -16959.3178    152.10\n",
              "Michigan               75879.6440  24428.0903      1.80\n",
              "Virginia               70636.7200  18597.9504      0.00\n",
              "North Carolina         55603.1640  -7490.9122     70.60\n",
              "Indiana                53555.3600  18382.9363      0.00\n",
              "Georgia                49095.8400  16250.0433      0.00\n",
              "Kentucky               36591.7500  11199.6966      0.00\n",
              "New Jersey             35764.3120   9772.9138      0.60\n",
              "Arizona                35282.0010  -3427.9246     68.00\n",
              "Wisconsin              32114.6100   8401.8004      0.00\n",
              "Colorado               32108.1180  -6527.8579     57.60\n",
              "Tennessee              30661.8730  -5341.6936     53.30\n",
              "Minnesota              29863.1500  10823.1874      0.00\n",
              "Massachusetts          28634.4340   6785.5016      2.10\n",
              "Delaware               27451.0690   9977.3748      0.60\n",
              "Maryland               23705.5230   7031.1788      0.60\n",
              "Rhode Island           22627.9560   7285.6293      1.20\n",
              "Missouri               22205.1500   6436.2105      0.00\n",
              "Oklahoma               19683.3900   4853.9560      0.00\n",
              "Alabama                19510.6400   5786.8253      0.00\n",
              "Oregon                 17420.7820  -1194.0993     35.60\n",
              "Nevada                 16729.1020   3316.7659      2.40\n",
              "Connecticut            13384.3570   3511.4918      0.60\n",
              "Arkansas               11678.1300   4008.6871      0.00\n",
              "Utah                   11220.0560   2546.5335      3.20\n",
              "Mississippi            10771.3400   3172.9762      0.00\n",
              "Louisiana               9217.0300   2196.1023      0.00\n",
              "Vermont                 8929.3700   2244.9783      0.00\n",
              "South Carolina          8481.7100   1769.0566      0.00\n",
              "Nebraska                7464.9300   2037.0942      0.00\n",
              "New Hampshire           7292.5240   1706.5028      0.30\n",
              "Montana                 5589.3520   1833.3285      1.00\n",
              "New Mexico              4783.5220   1157.1161      2.20\n",
              "Iowa                    4579.7600   1183.8119      0.00\n",
              "Idaho                   4382.4860    826.7231      1.80\n",
              "Kansas                  2914.3100    836.4435      0.00\n",
              "District of Columbia    2865.0200   1059.5893      0.00\n",
              "Wyoming                 1603.1360    100.1960      0.20\n",
              "South Dakota            1315.5600    394.8283      0.00\n",
              "Maine                   1270.5300    454.4862      0.00\n",
              "West Virginia           1209.8240    185.9216      0.30\n",
              "North Dakota             919.9100    230.1497      0.00"
            ]
          },
          "metadata": {
            "tags": []
          },
          "execution_count": 17
        }
      ]
    },
    {
      "cell_type": "markdown",
      "metadata": {
        "id": "XyHsOF48FsoX"
      },
      "source": [
        "**The states with less profit are allowed with more profit now.**"
      ]
    },
    {
      "cell_type": "code",
      "metadata": {
        "colab": {
          "base_uri": "https://localhost:8080/"
        },
        "id": "Pa4weIfBtLfT",
        "outputId": "0506c3d0-34e6-41e0-8bff-f4adf60d73bc"
      },
      "source": [
        "states_df['Discount'][states_df['Profit'] < 0].sort_values(ascending = True)\r\n"
      ],
      "execution_count": 18,
      "outputs": [
        {
          "output_type": "execute_result",
          "data": {
            "text/plain": [
              "State\n",
              "Oregon             35.60\n",
              "Tennessee          53.30\n",
              "Colorado           57.60\n",
              "Arizona            68.00\n",
              "North Carolina     70.60\n",
              "Florida           114.65\n",
              "Ohio              152.10\n",
              "Illinois          191.10\n",
              "Pennsylvania      192.70\n",
              "Texas             364.24\n",
              "Name: Discount, dtype: float64"
            ]
          },
          "metadata": {
            "tags": []
          },
          "execution_count": 18
        }
      ]
    },
    {
      "cell_type": "code",
      "metadata": {
        "colab": {
          "base_uri": "https://localhost:8080/",
          "height": 589
        },
        "id": "Ak7rTImBtQbX",
        "outputId": "6b94a7ad-c6a2-4994-80ae-10f415267b28"
      },
      "source": [
        "sns.lineplot(x = \"Discount\", y = \"Profit\", data = data, color = \"green\")\r\n",
        "plt.show()\r\n"
      ],
      "execution_count": 19,
      "outputs": [
        {
          "output_type": "display_data",
          "data": {
            "image/png": "[encoded data removed]",
            "text/plain": [
              "<Figure size 1800x720 with 1 Axes>"
            ]
          },
          "metadata": {
            "tags": [],
            "needs_background": "light"
          }
        }
      ]
    },
    {
      "cell_type": "markdown",
      "metadata": {
        "id": "Dqu8h7KSF2Vn"
      },
      "source": [
        "# **What I observed from above chat?**\r\n",
        "As the profit is increasing the Profit generated is decreased."
      ]
    }
  ]
}